{
  "nbformat": 4,
  "nbformat_minor": 0,
  "metadata": {
    "colab": {
      "name": "download-images.ipynb",
      "provenance": [],
      "authorship_tag": "ABX9TyP5Kvusi8le7vP+lM7DSWC2",
      "include_colab_link": true
    },
    "kernelspec": {
      "name": "python3",
      "display_name": "Python 3"
    }
  },
  "cells": [
    {
      "cell_type": "markdown",
      "metadata": {
        "id": "view-in-github",
        "colab_type": "text"
      },
      "source": [
        "<a href=\"https://colab.research.google.com/github/kumarbirendra/Kylin/blob/master/download_images.ipynb\" target=\"_parent\"><img src=\"https://colab.research.google.com/assets/colab-badge.svg\" alt=\"Open In Colab\"/></a>"
      ]
    },
    {
      "cell_type": "code",
      "metadata": {
        "id": "MTSdHZOV8YMu",
        "colab_type": "code",
        "colab": {}
      },
      "source": [
        "from bs4 import BeautifulSoup\n",
        "import requests\n",
        "\n",
        "URL = \"http://www.nationalgeographic.com.cn/animals/\""
      ],
      "execution_count": 1,
      "outputs": []
    },
    {
      "cell_type": "code",
      "metadata": {
        "id": "T_fiewEw8dSD",
        "colab_type": "code",
        "colab": {}
      },
      "source": [
        "html = requests.get(URL).text\n",
        "soup = BeautifulSoup(html, 'lxml')\n",
        "img_ul = soup.find_all('ul', {\"class\": \"img_list\"})"
      ],
      "execution_count": 2,
      "outputs": []
    },
    {
      "cell_type": "code",
      "metadata": {
        "id": "wClOL-MV8iwv",
        "colab_type": "code",
        "colab": {}
      },
      "source": [
        "import os\n",
        "\n",
        "os.makedirs('./img/', exist_ok=True)"
      ],
      "execution_count": 3,
      "outputs": []
    },
    {
      "cell_type": "code",
      "metadata": {
        "id": "rXx4t39R8mD4",
        "colab_type": "code",
        "colab": {
          "base_uri": "https://localhost:8080/",
          "height": 119
        },
        "outputId": "240d5fc3-ae53-4525-eaa0-eb9355ec2f23"
      },
      "source": [
        "for ul in img_ul:\n",
        "    imgs = ul.find_all('img')\n",
        "    for img in imgs:\n",
        "        url = img['src']\n",
        "        r = requests.get(url, stream=True)\n",
        "        image_name = url.split('/')[-1]\n",
        "        with open('./img/%s' % image_name, 'wb') as f:\n",
        "            for chunk in r.iter_content(chunk_size=128):\n",
        "                f.write(chunk)\n",
        "        print('Saved %s' % image_name)"
      ],
      "execution_count": 4,
      "outputs": [
        {
          "output_type": "stream",
          "text": [
            "Saved 20200723022256478.jpg\n",
            "Saved 20200722040321256.jpg\n",
            "Saved 20200722104747673.jpg\n",
            "Saved 20200721011014799.jpg\n",
            "Saved 20200721102540687.jpg\n",
            "Saved 20200720103904887.jpg\n"
          ],
          "name": "stdout"
        }
      ]
    },
    {
      "cell_type": "code",
      "metadata": {
        "id": "cM2AjQxU8rmF",
        "colab_type": "code",
        "colab": {}
      },
      "source": [
        ""
      ],
      "execution_count": null,
      "outputs": []
    }
  ]
}