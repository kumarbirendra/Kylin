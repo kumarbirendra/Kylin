{
  "nbformat": 4,
  "nbformat_minor": 0,
  "metadata": {
    "colab": {
      "name": "TheEntertainer.ipynb",
      "provenance": [],
      "authorship_tag": "ABX9TyPO/E7auxh4fRRltVvICP5W",
      "include_colab_link": true
    },
    "kernelspec": {
      "name": "python3",
      "display_name": "Python 3"
    }
  },
  "cells": [
    {
      "cell_type": "markdown",
      "metadata": {
        "id": "view-in-github",
        "colab_type": "text"
      },
      "source": [
        "<a href=\"https://colab.research.google.com/github/kumarbirendra/Kylin/blob/master/TheEntertainer.ipynb\" target=\"_parent\"><img src=\"https://colab.research.google.com/assets/colab-badge.svg\" alt=\"Open In Colab\"/></a>"
      ]
    },
    {
      "cell_type": "code",
      "metadata": {
        "id": "peO8aFXxuRTz",
        "colab_type": "code",
        "colab": {}
      },
      "source": [
        "import requests\n",
        "import webbrowser\n",
        "import re\n",
        "from bs4 import BeautifulSoup\n",
        "param = {}\n",
        "headers = {'User-Agent': 'Mozilla/5.0 (Windows NT 10.0; Win64; x64) AppleWebKit/537.36 (KHTML, like Gecko) Chrome/84.0.4147.89 Safari/537.36','Accept-Encoding': 'gzip, deflate', 'Accept': '*/*','content-type': 'text/html; charset=UTF-8'}\n",
        "r = requests.get('https://www.theentertainerme.com/en-ae/dubai-n-emirates',headers=headers)\n",
        "#print(r.text)\n"
      ],
      "execution_count": null,
      "outputs": []
    },
    {
      "cell_type": "code",
      "metadata": {
        "id": "5jgE_BauvWXh",
        "colab_type": "code",
        "colab": {
          "base_uri": "https://localhost:8080/",
          "height": 34
        },
        "outputId": "f56e28f6-29ce-4c92-b0d9-928a501bab9e"
      },
      "source": [
        "session = requests.Session()\n",
        "\n",
        "r = session.get('https://www.theentertainerme.com/cart/addproduct?id=8472&quantity=1&product_id=8472&_noChr=true&cart_id=3211907&_addOn=9758&__next=/en-ae/dubai-2020-upsell&affiliateCompany=entertainer&__baao=1&__baaoWc=0&cartRefresh=0',headers=headers)\n",
        "#print(r.text)\n",
        "r = session.get(\"https://www.theentertainerme.com/cart/\",headers=headers)\n",
        "#print(r.text)\n",
        "\n",
        "soup = BeautifulSoup(r.text, 'lxml')\n",
        "data = soup.text\n",
        "if (str(data).find(\"Points Pay\") >=0):\n",
        "    print(\"PointsPay Supported\")"
      ],
      "execution_count": 27,
      "outputs": [
        {
          "output_type": "stream",
          "text": [
            "PointsPay Supported\n"
          ],
          "name": "stdout"
        }
      ]
    },
    {
      "cell_type": "code",
      "metadata": {
        "id": "6aQRnHjGvPpu",
        "colab_type": "code",
        "colab": {}
      },
      "source": [
        ""
      ],
      "execution_count": null,
      "outputs": []
    }
  ]
}